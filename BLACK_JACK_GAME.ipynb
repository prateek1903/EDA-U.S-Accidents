{
 "cells": [
  {
   "cell_type": "code",
   "execution_count": 1,
   "id": "03e588db",
   "metadata": {},
   "outputs": [
    {
     "data": {
      "text/plain": [
       "[2, 3, 4, 5, 6, 7, 8, 9, 10, 10, 10, 10, 11]"
      ]
     },
     "execution_count": 1,
     "metadata": {},
     "output_type": "execute_result"
    }
   ],
   "source": [
    "magnitude = [x for x in range(2,11)]\n",
    "magnitude.extend([10,10,10,11])\n",
    "magnitude"
   ]
  },
  {
   "cell_type": "code",
   "execution_count": 2,
   "id": "d9230d7c",
   "metadata": {},
   "outputs": [],
   "source": [
    "suits = ['Spade','Club','Hearts','Diamond']\n",
    "Rank =  ['Two','Three','Four','Five','Six','Seven','Eight','Nine','Ten','Jack','Queen','king','Ace']\n",
    "values = {keys : value for keys,value in zip(Rank,magnitude)}"
   ]
  },
  {
   "cell_type": "code",
   "execution_count": 3,
   "id": "1cefca2a",
   "metadata": {},
   "outputs": [],
   "source": [
    "class Card:\n",
    "    def __init__(self,suit,rank):\n",
    "        self.suit = suit\n",
    "        self.rank = rank\n",
    "        self.value = values[self.rank]\n",
    "    def __str__(self):\n",
    "        return '{} of {}'.format(self.rank,self.suit)"
   ]
  },
  {
   "cell_type": "code",
   "execution_count": 4,
   "id": "27bda257",
   "metadata": {},
   "outputs": [],
   "source": [
    "import random"
   ]
  },
  {
   "cell_type": "code",
   "execution_count": 5,
   "id": "436c3723",
   "metadata": {},
   "outputs": [],
   "source": [
    "class Deck:\n",
    "    def __init__(self):\n",
    "        self.all_cards = []\n",
    "        for i in suits:\n",
    "            for j in Rank:\n",
    "                self.all_cards.append(Card(i,j))\n",
    "    def shuffle(self):\n",
    "        random.shuffle(self.all_cards)\n",
    "    def deal(self):\n",
    "        return self.all_cards.pop()"
   ]
  },
  {
   "cell_type": "code",
   "execution_count": 6,
   "id": "ed8e30b6",
   "metadata": {},
   "outputs": [],
   "source": [
    "class Hand:\n",
    "    def __init__(self):\n",
    "        self.cards = []\n",
    "        self.value = 0          \n",
    "        self.aces = 0\n",
    "    def add_card(self,card):\n",
    "        self.cards.append(card)\n",
    "        self.value = self.value+ card.value\n",
    "        if card.rank == \"Ace\":\n",
    "            self.aces = self.aces+1\n",
    "            \n",
    "    def adjust_for_ace(self):\n",
    "        while self.value>21 and self.aces:\n",
    "            self.value = self.value-10\n",
    "            self.aces = self.aces-1"
   ]
  },
  {
   "cell_type": "code",
   "execution_count": 7,
   "id": "02ee6475",
   "metadata": {},
   "outputs": [
    {
     "data": {
      "text/plain": [
       "20"
      ]
     },
     "execution_count": 7,
     "metadata": {},
     "output_type": "execute_result"
    }
   ],
   "source": [
    "test_deck = Deck()\n",
    "test_deck.shuffle()\n",
    "\n",
    "test_player = Hand()\n",
    "test_player.add_card(test_deck.deal())\n",
    "test_player.add_card(test_deck.deal())\n",
    "test_player.value"
   ]
  },
  {
   "cell_type": "code",
   "execution_count": 8,
   "id": "42c558de",
   "metadata": {},
   "outputs": [],
   "source": [
    "class Chips:\n",
    "    def __init__(self):\n",
    "        self.total = 200\n",
    "        self.bet = 0\n",
    "    def win_bet(self):                     \n",
    "        self.total = self.total+self.bet\n",
    "    def lose_bet(self):\n",
    "        self.total = self.total-self.bet"
   ]
  },
  {
   "cell_type": "code",
   "execution_count": 9,
   "id": "d434d83b",
   "metadata": {
    "code_folding": []
   },
   "outputs": [],
   "source": [
    "def take_bet(chips):\n",
    "    while True:\n",
    "        try:\n",
    "            chips.bet = int(input('Enter your bet : '))\n",
    "        except:\n",
    "            print('Kindly enter a integer value')\n",
    "        else:\n",
    "            if chips.bet>chips.total:\n",
    "                print('Not enough chips! You have {} '.format(chips.total))\n",
    "            else:\n",
    "                break"
   ]
  },
  {
   "cell_type": "code",
   "execution_count": 10,
   "id": "6c968a5b",
   "metadata": {},
   "outputs": [],
   "source": [
    "def hit(deck,hand):\n",
    "    hand.add_card(deck.deal())\n",
    "    hand.adjust_for_ace()"
   ]
  },
  {
   "cell_type": "code",
   "execution_count": 11,
   "id": "db9b7a43",
   "metadata": {},
   "outputs": [],
   "source": [
    "def hit_or_stand(deck,hand):\n",
    "    global playing\n",
    "    while True:\n",
    "        x= input('hit or stand? H|S :').upper()\n",
    "        if x == 'H':                                      #???????\n",
    "            hit(deck,hand)\n",
    "        elif x=='S':\n",
    "            print('Player chooses to stand')\n",
    "            playing = False\n",
    "        else:\n",
    "            print('Please enter either H or S only')\n",
    "            continue\n",
    "        \n",
    "        break"
   ]
  },
  {
   "cell_type": "code",
   "execution_count": 12,
   "id": "dde78b34",
   "metadata": {},
   "outputs": [],
   "source": [
    "from IPython.display import clear_output as clr"
   ]
  },
  {
   "cell_type": "code",
   "execution_count": 13,
   "id": "dd2b5ba6",
   "metadata": {},
   "outputs": [],
   "source": [
    "def show_some(player,dealer):\n",
    "    clr()\n",
    "    print('Players value : {}'.format(player.value))\n",
    "    print('Players card',end=': ')#hand classess\n",
    "    for i in player.cards:\n",
    "        print(i,end=',')\n",
    "    # For dealer\n",
    "    print('\\n')\n",
    "    print('Dealers single card:',end=' ')\n",
    "    print(dealer.cards[0])\n",
    "    print('\\n')\n",
    "\n",
    "def show_all(player,dealer):\n",
    "    print('Players value : {}'.format(player.value))\n",
    "    print('Players card',end=': ')\n",
    "    for i in player.cards:\n",
    "        print(i,end=',')\n",
    "    print('\\n')\n",
    "    print('Dealers value :{}'.format(dealer.value))\n",
    "    print('DEALER CARDS:',end =' ')\n",
    "    for i in dealer.cards:\n",
    "        print(i,end=',')\n",
    "    print('\\n')"
   ]
  },
  {
   "cell_type": "code",
   "execution_count": 14,
   "id": "0c0b3693",
   "metadata": {},
   "outputs": [],
   "source": [
    "def player_busts(player,dealer,chips):\n",
    "    print('BUST PLAYER!')\n",
    "    chips.lose_bet()\n",
    "def player_wins(player,dealer,chips):\n",
    "    print('Player wins')\n",
    "    chips.win_bet()\n",
    "def dealer_wins(player,dealer,chips):\n",
    "    print('Dealer wins')\n",
    "    chips.lose_bet()\n",
    "def dealer_busts(player,dealer,chips):\n",
    "    print('Dealer busts,player win')\n",
    "    chips.win_bet()\n",
    "def push(player,dealer):\n",
    "    print('TIE!')"
   ]
  },
  {
   "cell_type": "markdown",
   "id": "884cf58f",
   "metadata": {},
   "source": [
    "## Game logic"
   ]
  },
  {
   "cell_type": "code",
   "execution_count": 15,
   "id": "e41fdc19",
   "metadata": {},
   "outputs": [],
   "source": [
    "def replay():\n",
    "    choice= ''\n",
    "    while choice not in ['Y','N']:\n",
    "        choice = input('Do you want to play again Y|N: ').upper()\n",
    "    return choice=='Y'"
   ]
  },
  {
   "cell_type": "code",
   "execution_count": 17,
   "id": "0da96a42",
   "metadata": {},
   "outputs": [
    {
     "name": "stdout",
     "output_type": "stream",
     "text": [
      "Players value : 21\n",
      "Players card: Jack of Diamond,Ace of Hearts,\n",
      "\n",
      "Dealers single card: Six of Hearts\n",
      "\n",
      "\n",
      "Players value : 21\n",
      "Players card: Jack of Diamond,Ace of Hearts,\n",
      "\n",
      "Dealers value :17\n",
      "DEALER CARDS: Six of Hearts,Ace of Diamond,\n",
      "\n",
      "Player wins\n",
      "\n",
      "\n",
      "player you have 220 total chips\n",
      "Do you want to play again Y|N: n\n"
     ]
    }
   ],
   "source": [
    "playing = True\n",
    "restart = True\n",
    "while restart:\n",
    "    print('Ready to Play Black Jack')\n",
    "    deck = Deck()\n",
    "    deck.shuffle()\n",
    "    dealer= Hand()\n",
    "    player = Hand()\n",
    "    \n",
    "    for i in range(2):\n",
    "        dealer.add_card(deck.deal())\n",
    "        player.add_card(deck.deal())\n",
    "        \n",
    "    player_chips = Chips()\n",
    "    take_bet(player_chips)\n",
    "    show_some(player,dealer)\n",
    "    \n",
    "    while playing:\n",
    "        print('Player choose!')\n",
    "        hit_or_stand(deck,player)\n",
    "        show_some(player,dealer)\n",
    "        if player.value >21:\n",
    "            player_busts(player,dealer,player_chips)\n",
    "            break\n",
    "    if player.value <=21:\n",
    "        while dealer.value <17:\n",
    "            print('Dealer choose!')\n",
    "            hit(deck,dealer)\n",
    "        show_all(player,dealer)\n",
    "        if dealer.value>21:\n",
    "            dealer_busts(player,dealer,player_chips)\n",
    "        elif dealer.value>player.value:\n",
    "            dealer_wins(player,dealer,player_chips)\n",
    "        elif dealer.value == player.value:\n",
    "            push(player,dealer)\n",
    "        else:\n",
    "            player_wins(player,dealer,player_chips)\n",
    "    \n",
    "    print('\\n')\n",
    "    print('player you have {} total chips'.format(player_chips.total))\n",
    "    restart = replay()"
   ]
  }
 ],
 "metadata": {
  "hide_input": false,
  "kernelspec": {
   "display_name": "Python 3 (ipykernel)",
   "language": "python",
   "name": "python3"
  },
  "language_info": {
   "codemirror_mode": {
    "name": "ipython",
    "version": 3
   },
   "file_extension": ".py",
   "mimetype": "text/x-python",
   "name": "python",
   "nbconvert_exporter": "python",
   "pygments_lexer": "ipython3",
   "version": "3.9.12"
  }
 },
 "nbformat": 4,
 "nbformat_minor": 5
}
